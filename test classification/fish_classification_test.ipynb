{
 "cells": [
  {
   "cell_type": "code",
   "execution_count": 1,
   "metadata": {},
   "outputs": [],
   "source": [
    "# import libraries\n",
    "from sklearn.metrics import confusion_matrix\n",
    "from sklearn.metrics import classification_report\n",
    "import matplotlib.pyplot as plt\n",
    "import seaborn as sns\n",
    "from keras.models import load_model\n",
    "from PIL import Image\n",
    "from tqdm import tqdm\n",
    "import numpy as np\n",
    "import cv2\n",
    "import os"
   ]
  },
  {
   "cell_type": "code",
   "execution_count": 2,
   "metadata": {},
   "outputs": [],
   "source": [
    "# define variables\n",
    "fish_species = ['Mackerel', 'Seer', 'Sardine', 'Tuna']\n",
    "IMAGE_SIZE = 224\n",
    "label_map = {species:i for i,species in enumerate(fish_species)}\n",
    "reverse_label_map = {i: species for species, i in label_map.items()}\n"
   ]
  },
  {
   "cell_type": "code",
   "execution_count": 3,
   "metadata": {},
   "outputs": [],
   "source": [
    "# load model\n",
    "model_path = r\"C:\\Users\\sowmy\\Downloads\\Experiments\\classification\\saved_models\\warehouse_dataset\\new dataset\\5 classes\\m96.h5\"\n",
    "model = load_model(model_path)"
   ]
  },
  {
   "attachments": {},
   "cell_type": "markdown",
   "metadata": {},
   "source": [
    "##### Test an Image"
   ]
  },
  {
   "cell_type": "code",
   "execution_count": 4,
   "metadata": {},
   "outputs": [],
   "source": [
    "# show the new image\n",
    "img_path = r\"C:\\Users\\sowmy\\Downloads\\Fish Classification\\Dataset\\train_data\\own_data\\train_data\\new fish dataset\\Mackerel_new_own\\food3052781606114829325711.jpg\"\n",
    "image = Image.open(img_path)\n",
    "image.show()"
   ]
  },
  {
   "cell_type": "code",
   "execution_count": 5,
   "metadata": {},
   "outputs": [],
   "source": [
    "def preprocess_image(img_path):\n",
    "    # Load and preprocess the new image\n",
    "    image = cv2.imread(img_path)\n",
    "    # Resize the image to match the input size of the CNN model\n",
    "    image = cv2.resize(image, (IMAGE_SIZE, IMAGE_SIZE))  \n",
    "    # Normalize the image\n",
    "    image = image / 255.0 \n",
    "\n",
    "    # Expand dimensions to match the input shape of the CNN model\n",
    "    image = np.expand_dims(image, axis=0)\n",
    "    return image"
   ]
  },
  {
   "cell_type": "code",
   "execution_count": 11,
   "metadata": {},
   "outputs": [
    {
     "name": "stdout",
     "output_type": "stream",
     "text": [
      "1/1 [==============================] - 0s 65ms/step\n",
      "Mackerel\n"
     ]
    }
   ],
   "source": [
    "# test the new image\n",
    "image = preprocess_image(img_path)\n",
    "prediction = model.predict(image)\n",
    "max_prob = prediction.max()\n",
    "if max_prob<0.80:\n",
    "    prediction = 'Other'\n",
    "else:\n",
    "    prediction = fish_species[np.argmax(prediction)]\n",
    "\n",
    "print(max_prob)\n",
    "print(prediction)"
   ]
  },
  {
   "attachments": {},
   "cell_type": "markdown",
   "metadata": {},
   "source": [
    "#### Test a folder of images\n",
    "- The test folder should contain subfolders of images for each species \n",
    "##### Test Data folder\n",
    "- Mackerel \n",
    "- Seer\n",
    "- Sardine\n",
    "- Tuna"
   ]
  },
  {
   "cell_type": "code",
   "execution_count": 7,
   "metadata": {},
   "outputs": [
    {
     "name": "stderr",
     "output_type": "stream",
     "text": [
      "Loading Mackerel: 100%|██████████| 180/180 [00:51<00:00,  3.52it/s]\n",
      "Loading Seer: 100%|██████████| 17/17 [00:03<00:00,  5.10it/s]\n",
      "Loading Sardine: 100%|██████████| 257/257 [00:39<00:00,  6.55it/s]\n",
      "Loading Tuna: 100%|██████████| 9/9 [00:01<00:00,  5.73it/s]\n"
     ]
    }
   ],
   "source": [
    "# load the data\n",
    "test_data_path = r\"C:\\Users\\sowmy\\Downloads\\Fish Classification\\Dataset\\train_data\\warehouse_data\\classification_data\\train data\"\n",
    "\n",
    "test_images = []\n",
    "test_labels = []\n",
    "for species in fish_species:\n",
    "    folder_path = os.path.join(test_data_path, species)\n",
    "    if os.path.isdir(folder_path):\n",
    "        for filename in tqdm(os.listdir(folder_path), desc=f\"Loading {species}\"):\n",
    "                if filename.endswith((\".jpg\",\".jpeg\", \".webp\", \".png\", \".JPEG\")):\n",
    "                    image_path = os.path.join(folder_path, filename)\n",
    "                    image = cv2.imread(image_path)\n",
    "                    image = cv2.resize(image, (IMAGE_SIZE, IMAGE_SIZE))\n",
    "                    test_images.append(image)\n",
    "                    test_labels.append(label_map[species])\n",
    "                    \n",
    "test_images = np.array(test_images)\n",
    "test_images = test_images/255.0\n",
    "test_labels = np.array(test_labels)"
   ]
  },
  {
   "cell_type": "code",
   "execution_count": 8,
   "metadata": {},
   "outputs": [
    {
     "data": {
      "text/plain": [
       "(462, 224, 224, 3)"
      ]
     },
     "execution_count": 8,
     "metadata": {},
     "output_type": "execute_result"
    }
   ],
   "source": [
    "test_images.shape"
   ]
  },
  {
   "cell_type": "code",
   "execution_count": 9,
   "metadata": {},
   "outputs": [
    {
     "name": "stdout",
     "output_type": "stream",
     "text": [
      "15/15 [==============================] - 12s 741ms/step\n"
     ]
    },
    {
     "data": {
      "image/png": "[encoded data removed]",
      "text/plain": [
       "<Figure size 500x400 with 2 Axes>"
      ]
     },
     "metadata": {},
     "output_type": "display_data"
    },
    {
     "name": "stdout",
     "output_type": "stream",
     "text": [
      "              precision    recall  f1-score   support\n",
      "\n",
      "    Mackerel       0.97      0.94      0.95       180\n",
      "     Sardine       0.96      0.98      0.97       256\n",
      "        Seer       0.94      1.00      0.97        17\n",
      "        Tuna       1.00      1.00      1.00         9\n",
      "\n",
      "    accuracy                           0.96       462\n",
      "   macro avg       0.97      0.98      0.97       462\n",
      "weighted avg       0.96      0.96      0.96       462\n",
      "\n"
     ]
    }
   ],
   "source": [
    "# test images\n",
    "predictions = model.predict(test_images)\n",
    "predictions = [np.argmax(pred) for pred in predictions]\n",
    "\n",
    "\n",
    "# Generate confusion matrix\n",
    "cm = confusion_matrix(test_labels, predictions)\n",
    "\n",
    "# Plot the confusion matrix\n",
    "plt.figure(figsize=(5, 4))\n",
    "sns.heatmap(cm, annot=True, fmt='d', cmap='Blues', xticklabels=fish_species, yticklabels=fish_species)\n",
    "plt.title('Confusion Matrix')\n",
    "plt.xlabel('Predicted Labels')\n",
    "plt.ylabel('True Labels')\n",
    "plt.show()\n",
    "\n",
    "test_species = [reverse_label_map[label] for label in test_labels]\n",
    "predicted_species = [reverse_label_map[label] for label in predictions]\n",
    "\n",
    "\n",
    "# Calculate classification metrics \n",
    "report = classification_report(test_species, predicted_species, zero_division=1)\n",
    "print(report)"
   ]
  },
  {
   "cell_type": "code",
   "execution_count": null,
   "metadata": {},
   "outputs": [],
   "source": []
  }
 ],
 "metadata": {
  "kernelspec": {
   "display_name": "opencv_env",
   "language": "python",
   "name": "python3"
  },
  "language_info": {
   "codemirror_mode": {
    "name": "ipython",
    "version": 3
   },
   "file_extension": ".py",
   "mimetype": "text/x-python",
   "name": "python",
   "nbconvert_exporter": "python",
   "pygments_lexer": "ipython3",
   "version": "3.8.16"
  },
  "orig_nbformat": 4
 },
 "nbformat": 4,
 "nbformat_minor": 2
}
